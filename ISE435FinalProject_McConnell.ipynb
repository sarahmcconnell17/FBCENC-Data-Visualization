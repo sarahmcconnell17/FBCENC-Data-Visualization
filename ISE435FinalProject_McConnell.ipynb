{
 "cells": [
  {
   "cell_type": "markdown",
   "metadata": {},
   "source": [
    "## ISE435 Final Project Code: Food Distribution Visualization"
   ]
  },
  {
   "cell_type": "code",
   "execution_count": null,
   "metadata": {},
   "outputs": [],
   "source": [
    "import plotly.express as px\n",
    "import pandas as pd\n",
    "import numpy as np\n",
    "from urllib.request import urlopen\n",
    "import json"
   ]
  },
  {
   "cell_type": "markdown",
   "metadata": {},
   "source": [
    "#### Get geometry data for 34 NC counties served by Food Banks of Central and Eastern NC"
   ]
  },
  {
   "cell_type": "code",
   "execution_count": null,
   "metadata": {},
   "outputs": [],
   "source": [
    "with urlopen('https://raw.githubusercontent.com/plotly/datasets/master/geojson-counties-fips.json') as response:\n",
    "    counties = json.load(response)\n",
    "st_code = \"37\"\n",
    "counties['features'] = [STATE for STATE in counties['features'] if STATE['properties']['STATE'] == st_code]"
   ]
  },
  {
   "cell_type": "markdown",
   "metadata": {},
   "source": [
    "#### Get specific county data & create empty column for FEMA designation"
   ]
  },
  {
   "cell_type": "code",
   "execution_count": null,
   "metadata": {},
   "outputs": [],
   "source": [
    "df = pd.read_csv('NCFIPS.csv')\n",
    "df['FEMA'] = np.zeros(34)\n",
    "df.head()"
   ]
  },
  {
   "cell_type": "markdown",
   "metadata": {},
   "source": [
    "#### Assign FEMA designation for each county"
   ]
  },
  {
   "cell_type": "code",
   "execution_count": null,
   "metadata": {},
   "outputs": [],
   "source": [
    "IA = {'Durham'}\n",
    "IADict = {i: 'Individual Assistance' for i in IA}\n",
    "\n",
    "IPA = {'Chatham', 'Orange'}\n",
    "IPADict = {i: 'Individual and Public Assistance' for i in IPA}\n",
    "\n",
    "IPAAG = {'Brunswick', 'Carteret', 'Columbus', 'Craven', 'Duplin', 'Greene', 'Harnett', 'Johnston', 'Jones', 'Lee', 'Lenoir',\n",
    "        'Moore', 'New Hanover', 'Onslow', 'Pamlico', 'Pender', 'Pitt', 'Richmond', 'Sampson', 'Scotland', 'Wayne', 'Wilson'}\n",
    "IPAAGDict = {i: 'Individual and Public Assistance (Cat A-G)' for i in IPAAG}\n",
    "\n",
    "noDes = {'Edgecombe', 'Franklin', 'Halifax', 'Nash', 'Vance', 'Wake', 'Warren'}\n",
    "noDesDict = {i: 'No Designation' for i in noDes}\n",
    "\n",
    "pubA = {'Granville', 'Person'}\n",
    "pubADict = {i: 'Public Assistance' for i in pubA}\n",
    "\n",
    "\n",
    "FEMADict = {**IADict, **IPADict, **IPAAGDict, **noDesDict, **pubADict}"
   ]
  },
  {
   "cell_type": "markdown",
   "metadata": {},
   "source": [
    "#### Create df with necessary information for the visualization "
   ]
  },
  {
   "cell_type": "code",
   "execution_count": null,
   "metadata": {},
   "outputs": [],
   "source": [
    "countyData = df[['Branch ','COUNTY','Population', 'FIPS', 'FEMA']]\n",
    "countyData['FEMA'] = countyData['COUNTY'].apply(lambda x: FEMADict[x])\n",
    "countyData.head()"
   ]
  },
  {
   "cell_type": "markdown",
   "metadata": {},
   "source": [
    "#### Read FBCENC daily data showing the difference in food distributed to 800 agencies between 2017 & 2018"
   ]
  },
  {
   "cell_type": "code",
   "execution_count": null,
   "metadata": {},
   "outputs": [],
   "source": [
    "df2 = pd.read_csv('Daily.csv')\n",
    "agencyData = df2[['Agency','Date','Latitude','Longitude', '2017', '2018']]\n",
    "agencyData.head()"
   ]
  },
  {
   "cell_type": "markdown",
   "metadata": {},
   "source": [
    "#### Get the difference from pounds of food distributed from 2017 to 2018"
   ]
  },
  {
   "cell_type": "code",
   "execution_count": null,
   "metadata": {},
   "outputs": [],
   "source": [
    "diff = agencyData['2018'] - agencyData['2017']\n",
    "absVal = diff.abs()"
   ]
  },
  {
   "cell_type": "markdown",
   "metadata": {},
   "source": [
    "#### Add three columns: (1) Difference, (2) Absolute value to plot size of bubble on the visualization, (3) Amount to show More/Less"
   ]
  },
  {
   "cell_type": "code",
   "execution_count": null,
   "metadata": {},
   "outputs": [],
   "source": [
    "agencyData['Difference'], agencyData['AbsVal'], agencyData['Amount'] = [diff, diff.abs(), diff.abs()]\n",
    "agencyData"
   ]
  },
  {
   "cell_type": "markdown",
   "metadata": {},
   "source": [
    "#### Update Amount column to show More/Less"
   ]
  },
  {
   "cell_type": "code",
   "execution_count": null,
   "metadata": {},
   "outputs": [],
   "source": [
    "less = (agencyData.Difference<=0)\n",
    "more = (agencyData.Difference>0)\n",
    "agencyData.loc[less, 'Amount'] = 'Less'\n",
    "agencyData.loc[more, 'Amount'] = 'More'\n",
    "agencyData"
   ]
  },
  {
   "cell_type": "markdown",
   "metadata": {},
   "source": [
    "#### Create scatter plot showing all 800 agencies pounds of food received between 20 August and 15 October"
   ]
  },
  {
   "cell_type": "code",
   "execution_count": null,
   "metadata": {},
   "outputs": [],
   "source": [
    "fig = px.scatter_geo(agencyData, locationmode = 'USA-states', lon = 'Longitude', lat = 'Latitude',\n",
    "                     color= 'Amount',\n",
    "                     color_discrete_sequence= [\"black\", \"red\"],\n",
    "                     size= 'AbsVal',\n",
    "                     height = 600,\n",
    "                     width = 950,\n",
    "                     hover_name= 'Agency',\n",
    "                     hover_data = {'AbsVal':False,\n",
    "                                   'Difference':True,\n",
    "                                   'Latitude':False,\n",
    "                                   'Longitude':False},\n",
    "                     animation_frame= 'Date',\n",
    "                     )             "
   ]
  },
  {
   "cell_type": "markdown",
   "metadata": {},
   "source": [
    "#### Create choropleth showing all the counties outlined, color-coded with their FEMA designation"
   ]
  },
  {
   "cell_type": "code",
   "execution_count": null,
   "metadata": {},
   "outputs": [],
   "source": [
    "fig2 = px.choropleth(countyData, geojson=counties, locations= 'FIPS', featureidkey = 'id',\n",
    "                    color = 'FEMA',\n",
    "                    color_discrete_sequence= [\"pink\", \"orange\", \"green\", \"white\", \"yellow\"], \n",
    "                    scope = 'usa',\n",
    "                    hover_name= 'COUNTY',\n",
    "                    hover_data = {'FIPS':False,\n",
    "                                  'Branch ':True,\n",
    "                                  'COUNTY':True,\n",
    "                                  'Population': True\n",
    "                                    }\n",
    "                    )     "
   ]
  },
  {
   "cell_type": "markdown",
   "metadata": {},
   "source": [
    "#### Place fig2 on top of fig"
   ]
  },
  {
   "cell_type": "code",
   "execution_count": null,
   "metadata": {},
   "outputs": [],
   "source": [
    "for i in range(0,5):\n",
    "    fig.add_trace(fig2.data[i])"
   ]
  },
  {
   "cell_type": "markdown",
   "metadata": {},
   "source": [
    "#### Update fig scale to show specific region in NC of interest to FBCENC  "
   ]
  },
  {
   "cell_type": "code",
   "execution_count": null,
   "metadata": {},
   "outputs": [],
   "source": [
    "fig.update_geos(center=dict(lon=-78, lat=35.2),\n",
    "                lataxis_range=[33,36], \n",
    "                lonaxis_range=[-79.5, -75]\n",
    "               )\n",
    "\n",
    "# Update fig layout & display\n",
    "fig.update_layout(legend= dict(yanchor=\"top\", y=0.99, xanchor=\"right\", x=1.07, bordercolor=\"Black\", borderwidth=1),\n",
    "                  legend_title_text= \"Amount Received and FEMA Classification\", \n",
    "                  title={\n",
    "                        'text': \"Pounds of Food Received by FBCENC Agencies during Hurricane Florence\",\n",
    "                        'y':0.94,\n",
    "                        'x':0.5,\n",
    "                        'xanchor': 'center',\n",
    "                        'yanchor': 'top'}\n",
    "                 )\n",
    "fig.show()"
   ]
  }
 ],
 "metadata": {
  "kernelspec": {
   "display_name": "Python 3",
   "language": "python",
   "name": "python3"
  },
  "language_info": {
   "codemirror_mode": {
    "name": "ipython",
    "version": 3
   },
   "file_extension": ".py",
   "mimetype": "text/x-python",
   "name": "python",
   "nbconvert_exporter": "python",
   "pygments_lexer": "ipython3",
   "version": "3.8.3"
  }
 },
 "nbformat": 4,
 "nbformat_minor": 4
}
